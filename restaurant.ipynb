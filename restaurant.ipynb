{
 "cells": [
  {
   "cell_type": "code",
   "execution_count": 7,
   "metadata": {},
   "outputs": [
    {
     "name": "stdout",
     "output_type": "stream",
     "text": [
      "##  Spice & Saffron \n",
      "\n"
     ]
    }
   ],
   "source": [
    "from langchain_google_genai import ChatGoogleGenerativeAI\n",
    "from dotenv import load_dotenv\n",
    "import os\n",
    "\n",
    "load_dotenv()\n",
    "\n",
    "GOOGLE_API_KEY = os.getenv(\"GOOGLE_API_KEY\")\n",
    "\n",
    "\n",
    "\n",
    "llm = ChatGoogleGenerativeAI(\n",
    "    model=\"gemini-1.5-flash\",\n",
    "    temperature=0.3\n",
    ")\n",
    "\n",
    "response = llm.invoke(\"I want to open a restaurant for indian food. Please suggest me only one fancy name for this\")\n",
    "print(response.content)"
   ]
  },
  {
   "cell_type": "code",
   "execution_count": 13,
   "metadata": {},
   "outputs": [
    {
     "name": "stdout",
     "output_type": "stream",
     "text": [
      "##  **\"The Spice Bazaar\"** \n",
      "\n",
      "This name evokes a sense of exoticism, vibrant flavors, and a bustling marketplace, all elements associated with Indian cuisine. It's also memorable and easy to pronounce. \n",
      "\n"
     ]
    }
   ],
   "source": [
    "from langchain.prompts import PromptTemplate\n",
    "from langchain.chains import LLMChain\n",
    "\n",
    "prompt=PromptTemplate(template=\"I want to open a restaurant for {cuisine} food. Please suggest me only one fancy name for this.\", input_variables=[\"cuisine\"])\n",
    "\n",
    "chain = LLMChain(llm=llm, prompt=prompt)\n",
    "\n",
    "response = chain.invoke({\"cuisine\":'india'})\n",
    "print(response['text'])\n",
    "\n"
   ]
  },
  {
   "cell_type": "markdown",
   "metadata": {},
   "source": [
    "#### Sequential chain"
   ]
  },
  {
   "cell_type": "code",
   "execution_count": 27,
   "metadata": {},
   "outputs": [
    {
     "name": "stdout",
     "output_type": "stream",
     "text": [
      "**Appetizers:**\n",
      "\n",
      "* **Queso Fundido**\n",
      "* **Guacamole y Chips**\n",
      "* **Ceviche**\n",
      "* **Tostadas de Tinga**\n",
      "* **Empanadas**\n",
      "\n",
      "**Main Courses:**\n",
      "\n",
      "* **Tacos al Pastor**\n",
      "* **Enchiladas Verdes**\n",
      "* **Mole Poblano**\n",
      "* **Chiles Rellenos**\n",
      "* **Carne Asada**\n",
      "* **Pollo a la Parrilla**\n",
      "* **Pescado a la Veracruzana**\n",
      "\n",
      "**Sides:**\n",
      "\n",
      "* **Rice and Beans**\n",
      "* **Grilled Vegetables**\n",
      "* **Tortillas**\n",
      "* **Salsa**\n",
      "\n",
      "**Desserts:**\n",
      "\n",
      "* **Flan**\n",
      "* **Churros**\n",
      "* **Tres Leches Cake**\n",
      "* **Fruit Salad**\n",
      "\n"
     ]
    }
   ],
   "source": [
    "from langchain.prompts import PromptTemplate\n",
    "from langchain.chains import LLMChain\n",
    "from langchain.chains.sequential import SimpleSequentialChain\n",
    "\n",
    "name_prompt=PromptTemplate(template=\"I want to open a restaurant for {cuisine} food. Please suggest me only one fancy name for this.\", input_variables=[\"cuisine\"])\n",
    "food_item_prompt = PromptTemplate(template=\"Suggest some menue items for {restaurant_name}. Retern it as comma seperated without description\", input_variables=[\"restaurant_name\"])\n",
    "\n",
    "name_chain = LLMChain(llm=llm, prompt=name_prompt)\n",
    "food_chain = LLMChain(llm=llm, prompt=food_item_prompt)\n",
    "\n",
    "chain = SimpleSequentialChain(chains=[name_chain, food_chain])\n",
    "\n",
    "response = chain.run(\"Maxican\")\n",
    "\n",
    "print(response)\n",
    "\n"
   ]
  },
  {
   "cell_type": "code",
   "execution_count": 37,
   "metadata": {},
   "outputs": [
    {
     "name": "stdout",
     "output_type": "stream",
     "text": [
      "Avani is a beautiful name that evokes a sense of elegance and sophistication. Here are some popular Indian food items that would fit well with the name \"Avani\", keeping in mind the desired feel:\n",
      "\n",
      "**Appetizers:**\n",
      "\n",
      "* **Paneer Tikka:**  A classic, flavorful, and visually appealing dish.\n",
      "* **Samosas:**  A popular street food, perfect for sharing.\n",
      "* **Vegetable Pakoras:**  Crispy and savory, a great option for vegetarians.\n",
      "* **Chicken Tikka Masala:**  A rich and creamy dish, a crowd-pleaser.\n",
      "\n",
      "**Main Courses:**\n",
      "\n",
      "* **Butter Chicken:**  A creamy and indulgent dish, a signature of Indian cuisine.\n",
      "* **Saag Paneer:**  A spinach and paneer dish, flavorful and healthy.\n",
      "* **Biryani:**  A fragrant and flavorful rice dish, available with various meats and vegetables.\n",
      "* **Dal Makhani:**  A rich and creamy lentil dish, a comfort food favorite.\n",
      "\n",
      "**Desserts:**\n",
      "\n",
      "* **Gulab Jamun:**  Sweet and spongy, a classic Indian dessert.\n",
      "* **Ras Malai:**  Soft cheese balls in a creamy, sweet sauce.\n",
      "* **Kheer:**  A creamy rice pudding, a comforting dessert.\n",
      "\n",
      "**Final List (comma-separated):**\n",
      "\n",
      "Paneer Tikka, Samosas, Vegetable Pakoras, Chicken Tikka Masala, Butter Chicken, Saag Paneer, Biryani, Dal Makhani, Gulab Jamun, Ras Malai, Kheer \n",
      "\n"
     ]
    }
   ],
   "source": [
    "from langchain.prompts import PromptTemplate\n",
    "from langchain.chains import LLMChain\n",
    "from langchain.chains.sequential import  SequentialChain\n",
    "\n",
    "name_prompt=PromptTemplate(template=\"I want to open a restaurant for {cuisine} food. Please suggest me only one fancy name for this without explination.\", input_variables=[\"cuisine\"])\n",
    "food_item_prompt = PromptTemplate(template=\"Based on the restaurant name '{restaurant_name}', suggest popular {cuisine} food items. Return them as comma-separated values.\",  input_variables=[\"restaurant_name\"])\n",
    "\n",
    "name_chain = LLMChain(llm=llm, prompt=name_prompt,output_key=\"restaurant_name\")\n",
    "food_chain = LLMChain(llm=llm, prompt=food_item_prompt, output_key=\"menu_items\")\n",
    "\n",
    "chain1 = SequentialChain(chains=[name_chain, food_chain],\n",
    "                        input_variables=['cuisine'],\n",
    "                        output_variables=['restaurant_name','menu_items'])\n",
    "\n",
    "response = chain1.invoke({\"cuisine\":\"indian\"})\n",
    "\n",
    "# print(response)\n",
    "# print(response['restaurant_name'])\n",
    "print(response['menu_items'])\n"
   ]
  }
 ],
 "metadata": {
  "kernelspec": {
   "display_name": "Python 3",
   "language": "python",
   "name": "python3"
  },
  "language_info": {
   "codemirror_mode": {
    "name": "ipython",
    "version": 3
   },
   "file_extension": ".py",
   "mimetype": "text/x-python",
   "name": "python",
   "nbconvert_exporter": "python",
   "pygments_lexer": "ipython3",
   "version": "3.12.3"
  }
 },
 "nbformat": 4,
 "nbformat_minor": 2
}
